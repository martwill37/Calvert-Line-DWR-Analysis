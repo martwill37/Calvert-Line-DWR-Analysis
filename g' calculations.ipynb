{
 "cells": [
  {
   "cell_type": "code",
   "execution_count": 1,
   "id": "784f91f5",
   "metadata": {},
   "outputs": [
    {
     "ename": "NameError",
     "evalue": "name 'cube' is not defined",
     "output_type": "error",
     "traceback": [
      "\u001b[31m---------------------------------------------------------------------------\u001b[39m",
      "\u001b[31mNameError\u001b[39m                                 Traceback (most recent call last)",
      "\u001b[36mCell\u001b[39m\u001b[36m \u001b[39m\u001b[32mIn[1]\u001b[39m\u001b[32m, line 52\u001b[39m\n\u001b[32m     40\u001b[39m         results.append({\n\u001b[32m     41\u001b[39m             \u001b[33m'\u001b[39m\u001b[33mtransect\u001b[39m\u001b[33m'\u001b[39m: \u001b[38;5;28mstr\u001b[39m(transect),\n\u001b[32m     42\u001b[39m             \u001b[33m\"\u001b[39m\u001b[33mrho1\u001b[39m\u001b[33m\"\u001b[39m: rho1,\n\u001b[32m   (...)\u001b[39m\u001b[32m     46\u001b[39m             \u001b[33m\"\u001b[39m\u001b[33mh (m)\u001b[39m\u001b[33m\"\u001b[39m: h\n\u001b[32m     47\u001b[39m         })\n\u001b[32m     49\u001b[39m     \u001b[38;5;28;01mreturn\u001b[39;00m results\n\u001b[32m     51\u001b[39m results = estimate_critical_flow_speed_all_in_month(\n\u001b[32m---> \u001b[39m\u001b[32m52\u001b[39m     \u001b[43mcube\u001b[49m,\n\u001b[32m     53\u001b[39m     target_month=\u001b[33m\"\u001b[39m\u001b[33m202405\u001b[39m\u001b[33m\"\u001b[39m,\n\u001b[32m     54\u001b[39m     along_target=\u001b[32m23500\u001b[39m,\n\u001b[32m     55\u001b[39m     upper_layer_range=(\u001b[32m0\u001b[39m, \u001b[32m100\u001b[39m),\n\u001b[32m     56\u001b[39m     lower_layer_range=(\u001b[32m100\u001b[39m, \u001b[32m130\u001b[39m)\n\u001b[32m     57\u001b[39m )\n\u001b[32m     59\u001b[39m \u001b[38;5;28;01mfor\u001b[39;00m r \u001b[38;5;129;01min\u001b[39;00m results:\n\u001b[32m     60\u001b[39m     \u001b[38;5;28mprint\u001b[39m(r)\n",
      "\u001b[31mNameError\u001b[39m: name 'cube' is not defined"
     ]
    }
   ],
   "source": [
    "def estimate_critical_flow_speed_all_in_month(cube, target_month, along_target, upper_layer_range=(0, 100), lower_layer_range=(100, 130)):\n",
    "    import numpy as np\n",
    "    import gsw\n",
    "    from scipy.interpolate import interp1d\n",
    "\n",
    "    results = []\n",
    "    transects = cube.transect.values\n",
    "    matching = [t for t in transects if str(target_month) in str(t)]\n",
    "    if not matching:\n",
    "        print(f\"No transects found for month {target_month}\")\n",
    "        return []\n",
    "\n",
    "    for transect in matching:\n",
    "        ds = cube.sel(transect=transect)\n",
    "        along = ds['along'].values\n",
    "        idx = np.argmin(np.abs(along - along_target))\n",
    "\n",
    "        T = ds['temperature'][:, idx].values\n",
    "        S = ds['salinity'][:, idx].values\n",
    "        depth = ds['depth'].values\n",
    "\n",
    "        p = gsw.p_from_z(-depth, 51.5)\n",
    "        rho = gsw.density.rho(S, T, p)\n",
    "\n",
    "        # Masks for layers\n",
    "        upper_mask = (depth >= upper_layer_range[0]) & (depth < upper_layer_range[1])\n",
    "        lower_mask = (depth >= lower_layer_range[0]) & (depth < lower_layer_range[1])\n",
    "\n",
    "        if np.sum(upper_mask) < 1 or np.sum(lower_mask) < 1:\n",
    "            continue\n",
    "\n",
    "        rho1 = np.nanmean(rho[upper_mask])\n",
    "        rho2 = np.nanmean(rho[lower_mask])\n",
    "\n",
    "        g = 9.81\n",
    "        g_prime = g * (rho2 - rho1) / rho2\n",
    "        h = lower_layer_range[1] - lower_layer_range[0]\n",
    "        U = np.sqrt(g_prime * h**3)\n",
    "\n",
    "        results.append({\n",
    "            'transect': str(transect),\n",
    "            \"rho1\": rho1,\n",
    "            \"rho2\": rho2,\n",
    "            \"g'\": g_prime,\n",
    "            \"U (m/s)\": U,\n",
    "            \"h (m)\": h\n",
    "        })\n",
    "\n",
    "    return results\n",
    "\n",
    "results = estimate_critical_flow_speed_all_in_month(\n",
    "    cube,\n",
    "    target_month=\"202405\",\n",
    "    along_target=23500,\n",
    "    upper_layer_range=(0, 100),\n",
    "    lower_layer_range=(100, 130)\n",
    ")\n",
    "\n",
    "for r in results:\n",
    "    print(r)"
   ]
  },
  {
   "cell_type": "code",
   "execution_count": null,
   "id": "e239d8da",
   "metadata": {},
   "outputs": [],
   "source": []
  }
 ],
 "metadata": {
  "kernelspec": {
   "display_name": "myenv",
   "language": "python",
   "name": "python3"
  },
  "language_info": {
   "codemirror_mode": {
    "name": "ipython",
    "version": 3
   },
   "file_extension": ".py",
   "mimetype": "text/x-python",
   "name": "python",
   "nbconvert_exporter": "python",
   "pygments_lexer": "ipython3",
   "version": "3.12.2"
  }
 },
 "nbformat": 4,
 "nbformat_minor": 5
}
