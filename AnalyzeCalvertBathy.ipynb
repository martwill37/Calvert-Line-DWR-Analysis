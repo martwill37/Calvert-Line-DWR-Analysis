{
 "cells": [
  {
   "cell_type": "code",
   "execution_count": null,
   "metadata": {},
   "outputs": [],
   "source": [
    "import xarray as xr\n",
    "import matplotlib.pyplot as plt\n",
    "import numpy as np\n",
    "%matplotlib notebook"
   ]
  },
  {
   "cell_type": "code",
   "execution_count": null,
   "metadata": {},
   "outputs": [],
   "source": [
    "with xr.open_dataset('bathy/british_columbia_3_msl_2013.nc') as topo:\n",
    "    #print(topo)\n",
    "    fig, ax = plt.subplots()\n",
    "    topo = topo.isel(lon=slice(8000, 10000), lat=slice(3000, 4000))\n",
    "    pc = ax.pcolormesh(topo.lon, topo.lat, topo.Band1, rasterized=True, vmin=-500, vmax=-250, cmap='jet')\n",
    "    ax.set_xlim(-129.85, -129.4)\n",
    "    ax.set_ylim(51.05, 51.3)\n",
    "    ax.set_aspect(1./np.cos(51.1*np.pi/180))\n",
    "    fig.colorbar(pc, ax=ax, extend='both', shrink=0.6)\n",
    "    fig.savefig('bathy.png', dpi=200)"
   ]
  },
  {
   "cell_type": "code",
   "execution_count": null,
   "metadata": {},
   "outputs": [],
   "source": []
  }
 ],
 "metadata": {
  "kernelspec": {
   "display_name": "Python 3",
   "language": "python",
   "name": "python3"
  },
  "language_info": {
   "codemirror_mode": {
    "name": "ipython",
    "version": 3
   },
   "file_extension": ".py",
   "mimetype": "text/x-python",
   "name": "python",
   "nbconvert_exporter": "python",
   "pygments_lexer": "ipython3",
   "version": "3.7.8"
  },
  "toc": {
   "base_numbering": 1,
   "nav_menu": {},
   "number_sections": true,
   "sideBar": true,
   "skip_h1_title": false,
   "title_cell": "Table of Contents",
   "title_sidebar": "Contents",
   "toc_cell": false,
   "toc_position": {},
   "toc_section_display": true,
   "toc_window_display": false
  }
 },
 "nbformat": 4,
 "nbformat_minor": 4
}
